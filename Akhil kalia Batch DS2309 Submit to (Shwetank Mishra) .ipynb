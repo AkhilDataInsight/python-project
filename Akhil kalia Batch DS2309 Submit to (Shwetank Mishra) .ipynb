{
 "cells": [
  {
   "cell_type": "code",
   "execution_count": 2,
   "id": "b559953d",
   "metadata": {},
   "outputs": [
    {
     "name": "stdout",
     "output_type": "stream",
     "text": [
      "Python:Exercises::PHP:exercises:\n"
     ]
    }
   ],
   "source": [
    "def replace_space_comma_dot_with_colon(text):\n",
    "    # Use str.replace() to replace space, comma, and dot with a colon\n",
    "    modified_text = text.replace(' ', ':').replace(',', ':').replace('.', ':')\n",
    "    return modified_text\n",
    "\n",
    "sample_text = 'Python Exercises, PHP exercises.'\n",
    "result = replace_space_comma_dot_with_colon(sample_text)\n",
    "print(result)\n"
   ]
  },
  {
   "cell_type": "code",
   "execution_count": 3,
   "id": "7eef09e9",
   "metadata": {},
   "outputs": [
    {
     "name": "stdout",
     "output_type": "stream",
     "text": [
      "['Apple', 'and', 'are', 'elephant', 'an', 'animal']\n"
     ]
    }
   ],
   "source": [
    "import re\n",
    "\n",
    "def find_words_starting_with_a_or_e(text):\n",
    "    # Use regular expression to find words starting with 'a' or 'e'\n",
    "    pattern = r'\\b[aeAE]\\w+\\b'\n",
    "    words = re.findall(pattern, text)\n",
    "    return words\n",
    "\n",
    "sample_text = 'Apple and banana are fruits, while elephant is an animal.'\n",
    "result = find_words_starting_with_a_or_e(sample_text)\n",
    "print(result)\n"
   ]
  },
  {
   "cell_type": "code",
   "execution_count": 4,
   "id": "498b8207",
   "metadata": {},
   "outputs": [
    {
     "name": "stdout",
     "output_type": "stream",
     "text": [
      "['Python', 'powerful', 'programming', 'language', 'with', 'many', 'features']\n"
     ]
    }
   ],
   "source": [
    "import re\n",
    "\n",
    "def find_words_at_least_4_chars(text):\n",
    "    # Compile a regular expression pattern to match words at least 4 characters long\n",
    "    pattern = re.compile(r'\\b\\w{4,}\\b')\n",
    "    \n",
    "    # Use findall() to find all matching words\n",
    "    words = pattern.findall(text)\n",
    "    \n",
    "    return words\n",
    "\n",
    "sample_text = 'Python is a powerful programming language with many features.'\n",
    "result = find_words_at_least_4_chars(sample_text)\n",
    "print(result)\n"
   ]
  },
  {
   "cell_type": "code",
   "execution_count": 5,
   "id": "06dc9473",
   "metadata": {},
   "outputs": [
    {
     "name": "stdout",
     "output_type": "stream",
     "text": [
      "['with', 'many']\n"
     ]
    }
   ],
   "source": [
    "import re\n",
    "\n",
    "def find_words_3_4_5_chars(text):\n",
    "    # Compile a regular expression pattern to match words of length 3, 4, or 5 characters\n",
    "    pattern = re.compile(r'\\b\\w{3,5}\\b')\n",
    "    \n",
    "    # Use findall() to find all matching words\n",
    "    words = pattern.findall(text)\n",
    "    \n",
    "    return words\n",
    "\n",
    "sample_text = 'Python is a powerful programming language with many features.'\n",
    "result = find_words_3_4_5_chars(sample_text)\n",
    "print(result)\n"
   ]
  },
  {
   "cell_type": "code",
   "execution_count": 6,
   "id": "00f5ed7f",
   "metadata": {},
   "outputs": [
    {
     "name": "stdout",
     "output_type": "stream",
     "text": [
      "['example ', 'hr@fliprobo ', 'github ', 'Hello ', 'Data ']\n"
     ]
    }
   ],
   "source": [
    "import re\n",
    "\n",
    "def remove_parentheses(strings):\n",
    "    # Compile a regular expression pattern to match and remove parentheses\n",
    "    pattern = re.compile(r'\\([^)]*\\)')\n",
    "    \n",
    "    # Initialize an empty list to store the modified strings\n",
    "    modified_strings = []\n",
    "    \n",
    "    for string in strings:\n",
    "        # Use sub() to remove the matched parentheses in each string\n",
    "        modified_string = pattern.sub('', string)\n",
    "        modified_strings.append(modified_string)\n",
    "    \n",
    "    return modified_strings\n",
    "\n",
    "sample_text = [\"example (.com)\", \"hr@fliprobo (.com)\", \"github (.com)\", \"Hello (Data Science World)\", \"Data (Scientist)\"]\n",
    "result = remove_parentheses(sample_text)\n",
    "print(result)\n"
   ]
  },
  {
   "cell_type": "code",
   "execution_count": 9,
   "id": "bd522d07",
   "metadata": {},
   "outputs": [
    {
     "name": "stdout",
     "output_type": "stream",
     "text": [
      "['Importance', 'Of', 'Regular', 'Expressions', 'In', 'Python']\n"
     ]
    }
   ],
   "source": [
    "import re\n",
    "\n",
    "sample_text = \"ImportanceOfRegularExpressionsInPython\"\n",
    "\n",
    "# Split the string into uppercase letters\n",
    "result = re.split(r'([A-Z][a-z]*)', sample_text)\n",
    "# Filter out empty strings and None\n",
    "result = [item for item in result if item]\n",
    "\n",
    "print(result)\n"
   ]
  },
  {
   "cell_type": "code",
   "execution_count": 10,
   "id": "2a20c59a",
   "metadata": {},
   "outputs": [
    {
     "name": "stdout",
     "output_type": "stream",
     "text": [
      "RegularExpression1 IsAn2 ImportantTopic3 InPython\n",
      "RegularExpression 1 IsAn 2 ImportantTopic 3 InPython\n"
     ]
    }
   ],
   "source": [
    "import re\n",
    "\n",
    "def insert_spaces_between_numbers_and_words(text):\n",
    "    # Use regular expression to insert spaces between words starting with numbers\n",
    "    modified_text = re.sub(r'(\\d)([A-Za-z])', r'\\1 \\2', text)\n",
    "    return modified_text\n",
    "\n",
    "sample_text = \"RegularExpression1IsAn2ImportantTopic3InPython\"\n",
    "result = insert_spaces_between_numbers_and_words(sample_text)\n",
    "print(result)\n",
    "\n",
    "9.\n",
    "\n",
    "import re\n",
    "\n",
    "def insert_spaces_between_caps_and_numbers(text):\n",
    "    # Use regular expression to insert spaces between words starting with capital letters or numbers\n",
    "    modified_text = re.sub(r'(?<=[A-Z\\d])(?=[A-Z])|(?<=[A-Za-z])(?=\\d)', ' ', text)\n",
    "    return modified_text\n",
    "\n",
    "sample_text = \"RegularExpression1IsAn2ImportantTopic3InPython\"\n",
    "result = insert_spaces_between_caps_and_numbers(sample_text)\n",
    "print(result)\n"
   ]
  },
  {
   "cell_type": "code",
   "execution_count": 11,
   "id": "ba314498",
   "metadata": {},
   "outputs": [
    {
     "ename": "FileNotFoundError",
     "evalue": "[Errno 2] No such file or directory: 'sample.txt'",
     "output_type": "error",
     "traceback": [
      "\u001b[0;31m---------------------------------------------------------------------------\u001b[0m",
      "\u001b[0;31mFileNotFoundError\u001b[0m                         Traceback (most recent call last)",
      "Cell \u001b[0;32mIn[11], line 14\u001b[0m\n\u001b[1;32m     12\u001b[0m \u001b[38;5;66;03m# Read the text from the file\u001b[39;00m\n\u001b[1;32m     13\u001b[0m file_name \u001b[38;5;241m=\u001b[39m \u001b[38;5;124m\"\u001b[39m\u001b[38;5;124msample.txt\u001b[39m\u001b[38;5;124m\"\u001b[39m  \u001b[38;5;66;03m# Replace with the name of your text file\u001b[39;00m\n\u001b[0;32m---> 14\u001b[0m \u001b[38;5;28;01mwith\u001b[39;00m \u001b[38;5;28mopen\u001b[39m(file_name, \u001b[38;5;124m\"\u001b[39m\u001b[38;5;124mr\u001b[39m\u001b[38;5;124m\"\u001b[39m) \u001b[38;5;28;01mas\u001b[39;00m file:\n\u001b[1;32m     15\u001b[0m     text \u001b[38;5;241m=\u001b[39m file\u001b[38;5;241m.\u001b[39mread()\n\u001b[1;32m     17\u001b[0m \u001b[38;5;66;03m# Extract email addresses from the text\u001b[39;00m\n",
      "File \u001b[0;32m~/anaconda3/lib/python3.11/site-packages/IPython/core/interactiveshell.py:286\u001b[0m, in \u001b[0;36m_modified_open\u001b[0;34m(file, *args, **kwargs)\u001b[0m\n\u001b[1;32m    279\u001b[0m \u001b[38;5;28;01mif\u001b[39;00m file \u001b[38;5;129;01min\u001b[39;00m {\u001b[38;5;241m0\u001b[39m, \u001b[38;5;241m1\u001b[39m, \u001b[38;5;241m2\u001b[39m}:\n\u001b[1;32m    280\u001b[0m     \u001b[38;5;28;01mraise\u001b[39;00m \u001b[38;5;167;01mValueError\u001b[39;00m(\n\u001b[1;32m    281\u001b[0m         \u001b[38;5;124mf\u001b[39m\u001b[38;5;124m\"\u001b[39m\u001b[38;5;124mIPython won\u001b[39m\u001b[38;5;124m'\u001b[39m\u001b[38;5;124mt let you open fd=\u001b[39m\u001b[38;5;132;01m{\u001b[39;00mfile\u001b[38;5;132;01m}\u001b[39;00m\u001b[38;5;124m by default \u001b[39m\u001b[38;5;124m\"\u001b[39m\n\u001b[1;32m    282\u001b[0m         \u001b[38;5;124m\"\u001b[39m\u001b[38;5;124mas it is likely to crash IPython. If you know what you are doing, \u001b[39m\u001b[38;5;124m\"\u001b[39m\n\u001b[1;32m    283\u001b[0m         \u001b[38;5;124m\"\u001b[39m\u001b[38;5;124myou can use builtins\u001b[39m\u001b[38;5;124m'\u001b[39m\u001b[38;5;124m open.\u001b[39m\u001b[38;5;124m\"\u001b[39m\n\u001b[1;32m    284\u001b[0m     )\n\u001b[0;32m--> 286\u001b[0m \u001b[38;5;28;01mreturn\u001b[39;00m io_open(file, \u001b[38;5;241m*\u001b[39margs, \u001b[38;5;241m*\u001b[39m\u001b[38;5;241m*\u001b[39mkwargs)\n",
      "\u001b[0;31mFileNotFoundError\u001b[0m: [Errno 2] No such file or directory: 'sample.txt'"
     ]
    }
   ],
   "source": [
    "import re\n",
    "\n",
    "def extract_emails_from_text(text):\n",
    "    # Define a regular expression pattern to match email addresses\n",
    "    email_pattern = r'\\b[A-Za-z0-9._%+-]+@[A-Za-z0-9.-]+\\.[A-Z|a-z]{2,7}\\b'\n",
    "    \n",
    "    # Use findall() to find all email addresses in the text\n",
    "    emails = re.findall(email_pattern, text)\n",
    "    \n",
    "    return emails\n",
    "\n",
    "# Read the text from the file\n",
    "file_name = \"sample.txt\"  # Replace with the name of your text file\n",
    "with open(file_name, \"r\") as file:\n",
    "    text = file.read()\n",
    "\n",
    "# Extract email addresses from the text\n",
    "email_addresses = extract_emails_from_text(text)\n",
    "\n",
    "# Print the extracted email addresses\n",
    "for email in email_addresses:\n",
    "    print(email)\n"
   ]
  },
  {
   "cell_type": "code",
   "execution_count": 12,
   "id": "803d5c91",
   "metadata": {},
   "outputs": [
    {
     "name": "stdout",
     "output_type": "stream",
     "text": [
      "'Hello123' is a valid string.\n",
      "'Good_Morning' is a valid string.\n",
      "'Invalid@String' is not a valid string.\n",
      "'12345' is a valid string.\n",
      "'_underscore_' is a valid string.\n"
     ]
    }
   ],
   "source": [
    "import re\n",
    "\n",
    "def is_valid_string(input_string):\n",
    "    # Define a regular expression pattern to match the allowed characters\n",
    "    pattern = r'^[a-zA-Z0-9_]+$'\n",
    "    \n",
    "    # Use re.match() to check if the input string matches the pattern\n",
    "    match = re.match(pattern, input_string)\n",
    "    \n",
    "    # If a match is found, it's a valid string\n",
    "    return match is not None\n",
    "\n",
    "# Test the function with some sample strings\n",
    "sample_strings = [\"Hello123\", \"Good_Morning\", \"Invalid@String\", \"12345\", \"_underscore_\"]\n",
    "for string in sample_strings:\n",
    "    if is_valid_string(string):\n",
    "        print(f\"'{string}' is a valid string.\")\n",
    "    else:\n",
    "        print(f\"'{string}' is not a valid string.\")\n"
   ]
  },
  {
   "cell_type": "code",
   "execution_count": 13,
   "id": "bef82927",
   "metadata": {},
   "outputs": [
    {
     "name": "stdout",
     "output_type": "stream",
     "text": [
      "'12345_example' starts with 123.\n",
      "'4567_data' does not start with 123.\n",
      "'abc123_start' does not start with 123.\n",
      "'789_end' does not start with 123.\n"
     ]
    }
   ],
   "source": [
    "def starts_with_number(input_string, number):\n",
    "    # Convert the number to a string for comparison\n",
    "    number_str = str(number)\n",
    "    \n",
    "    # Check if the input string starts with the number\n",
    "    return input_string.startswith(number_str)\n",
    "\n",
    "# Test the function with some sample strings and numbers\n",
    "sample_strings = [\"12345_example\", \"4567_data\", \"abc123_start\", \"789_end\"]\n",
    "specific_number = 123\n",
    "\n",
    "for string in sample_strings:\n",
    "    if starts_with_number(string, specific_number):\n",
    "        print(f\"'{string}' starts with {specific_number}.\")\n",
    "    else:\n",
    "        print(f\"'{string}' does not start with {specific_number}.\")\n",
    "\n"
   ]
  },
  {
   "cell_type": "code",
   "execution_count": 14,
   "id": "1c738519",
   "metadata": {},
   "outputs": [
    {
     "name": "stdout",
     "output_type": "stream",
     "text": [
      "192.1.10.7\n"
     ]
    }
   ],
   "source": [
    "def remove_leading_zeros(ip_address):\n",
    "    # Split the IP address into octets\n",
    "    octets = ip_address.split('.')\n",
    "    \n",
    "    # Initialize an empty list to store the modified octets\n",
    "    modified_octets = []\n",
    "    \n",
    "    for octet in octets:\n",
    "        # Remove leading zeros by converting to an integer and then back to a string\n",
    "        modified_octet = str(int(octet))\n",
    "        modified_octets.append(modified_octet)\n",
    "    \n",
    "    # Join the modified octets back into an IP address\n",
    "    modified_ip_address = '.'.join(modified_octets)\n",
    "    \n",
    "    return modified_ip_address\n",
    "\n",
    "# Test the function with an IP address containing leading zeros\n",
    "ip_address = \"192.001.010.007\"\n",
    "result = remove_leading_zeros(ip_address)\n",
    "print(result)\n"
   ]
  },
  {
   "cell_type": "code",
   "execution_count": 15,
   "id": "1a054b9f",
   "metadata": {},
   "outputs": [
    {
     "ename": "FileNotFoundError",
     "evalue": "[Errno 2] No such file or directory: 'sample.txt'",
     "output_type": "error",
     "traceback": [
      "\u001b[0;31m---------------------------------------------------------------------------\u001b[0m",
      "\u001b[0;31mFileNotFoundError\u001b[0m                         Traceback (most recent call last)",
      "Cell \u001b[0;32mIn[15], line 17\u001b[0m\n\u001b[1;32m     15\u001b[0m \u001b[38;5;66;03m# Replace \"sample.txt\" with the actual name of your text file\u001b[39;00m\n\u001b[1;32m     16\u001b[0m file_name \u001b[38;5;241m=\u001b[39m \u001b[38;5;124m\"\u001b[39m\u001b[38;5;124msample.txt\u001b[39m\u001b[38;5;124m\"\u001b[39m\n\u001b[0;32m---> 17\u001b[0m date_strings \u001b[38;5;241m=\u001b[39m extract_date_from_text(file_name)\n\u001b[1;32m     19\u001b[0m \u001b[38;5;28;01mfor\u001b[39;00m date \u001b[38;5;129;01min\u001b[39;00m date_strings:\n\u001b[1;32m     20\u001b[0m     \u001b[38;5;28mprint\u001b[39m(date)\n",
      "Cell \u001b[0;32mIn[15], line 4\u001b[0m, in \u001b[0;36mextract_date_from_text\u001b[0;34m(file_name)\u001b[0m\n\u001b[1;32m      3\u001b[0m \u001b[38;5;28;01mdef\u001b[39;00m \u001b[38;5;21mextract_date_from_text\u001b[39m(file_name):\n\u001b[0;32m----> 4\u001b[0m     \u001b[38;5;28;01mwith\u001b[39;00m \u001b[38;5;28mopen\u001b[39m(file_name, \u001b[38;5;124m\"\u001b[39m\u001b[38;5;124mr\u001b[39m\u001b[38;5;124m\"\u001b[39m) \u001b[38;5;28;01mas\u001b[39;00m file:\n\u001b[1;32m      5\u001b[0m         text \u001b[38;5;241m=\u001b[39m file\u001b[38;5;241m.\u001b[39mread()\n\u001b[1;32m      7\u001b[0m         \u001b[38;5;66;03m# Define a regular expression pattern to match the date format\u001b[39;00m\n",
      "File \u001b[0;32m~/anaconda3/lib/python3.11/site-packages/IPython/core/interactiveshell.py:286\u001b[0m, in \u001b[0;36m_modified_open\u001b[0;34m(file, *args, **kwargs)\u001b[0m\n\u001b[1;32m    279\u001b[0m \u001b[38;5;28;01mif\u001b[39;00m file \u001b[38;5;129;01min\u001b[39;00m {\u001b[38;5;241m0\u001b[39m, \u001b[38;5;241m1\u001b[39m, \u001b[38;5;241m2\u001b[39m}:\n\u001b[1;32m    280\u001b[0m     \u001b[38;5;28;01mraise\u001b[39;00m \u001b[38;5;167;01mValueError\u001b[39;00m(\n\u001b[1;32m    281\u001b[0m         \u001b[38;5;124mf\u001b[39m\u001b[38;5;124m\"\u001b[39m\u001b[38;5;124mIPython won\u001b[39m\u001b[38;5;124m'\u001b[39m\u001b[38;5;124mt let you open fd=\u001b[39m\u001b[38;5;132;01m{\u001b[39;00mfile\u001b[38;5;132;01m}\u001b[39;00m\u001b[38;5;124m by default \u001b[39m\u001b[38;5;124m\"\u001b[39m\n\u001b[1;32m    282\u001b[0m         \u001b[38;5;124m\"\u001b[39m\u001b[38;5;124mas it is likely to crash IPython. If you know what you are doing, \u001b[39m\u001b[38;5;124m\"\u001b[39m\n\u001b[1;32m    283\u001b[0m         \u001b[38;5;124m\"\u001b[39m\u001b[38;5;124myou can use builtins\u001b[39m\u001b[38;5;124m'\u001b[39m\u001b[38;5;124m open.\u001b[39m\u001b[38;5;124m\"\u001b[39m\n\u001b[1;32m    284\u001b[0m     )\n\u001b[0;32m--> 286\u001b[0m \u001b[38;5;28;01mreturn\u001b[39;00m io_open(file, \u001b[38;5;241m*\u001b[39margs, \u001b[38;5;241m*\u001b[39m\u001b[38;5;241m*\u001b[39mkwargs)\n",
      "\u001b[0;31mFileNotFoundError\u001b[0m: [Errno 2] No such file or directory: 'sample.txt'"
     ]
    }
   ],
   "source": [
    "import re\n",
    "\n",
    "def extract_date_from_text(file_name):\n",
    "    with open(file_name, \"r\") as file:\n",
    "        text = file.read()\n",
    "        \n",
    "        # Define a regular expression pattern to match the date format\n",
    "        date_pattern = r'\\b(?:January|February|March|April|May|June|July|August|September|October|November|December)\\s+\\d{1,2}(?:st|nd|rd|th)?\\s+\\d{4}\\b'\n",
    "        \n",
    "        # Use findall() to find all date matches in the text\n",
    "        dates = re.findall(date_pattern, text)\n",
    "        \n",
    "        return dates\n",
    "\n",
    "# Replace \"sample.txt\" with the actual name of your text file\n",
    "file_name = \"sample.txt\"\n",
    "date_strings = extract_date_from_text(file_name)\n",
    "\n",
    "for date in date_strings:\n",
    "    print(date)\n"
   ]
  },
  {
   "cell_type": "code",
   "execution_count": 16,
   "id": "bd47c9d9",
   "metadata": {},
   "outputs": [
    {
     "name": "stdout",
     "output_type": "stream",
     "text": [
      "Found words: ['fox', 'dog']\n"
     ]
    }
   ],
   "source": [
    "def search_literals_in_text(text, search_words):\n",
    "    found_words = []\n",
    "    for word in search_words:\n",
    "        if word in text:\n",
    "            found_words.append(word)\n",
    "    return found_words\n",
    "\n",
    "sample_text = 'The quick brown fox jumps over the lazy dog.'\n",
    "searched_words = ['fox', 'dog', 'horse']\n",
    "\n",
    "result = search_literals_in_text(sample_text, searched_words)\n",
    "\n",
    "print(\"Found words:\", result)\n"
   ]
  },
  {
   "cell_type": "code",
   "execution_count": 17,
   "id": "f3e6a641",
   "metadata": {},
   "outputs": [
    {
     "name": "stdout",
     "output_type": "stream",
     "text": [
      "'fox' found at positions: [16]\n"
     ]
    }
   ],
   "source": [
    "def search_literal_in_text(text, pattern):\n",
    "    found_locations = []\n",
    "    start = 0\n",
    "    \n",
    "    while start < len(text):\n",
    "        index = text.find(pattern, start)\n",
    "        if index == -1:\n",
    "            break\n",
    "        found_locations.append(index)\n",
    "        start = index + 1\n",
    "    \n",
    "    return found_locations\n",
    "\n",
    "sample_text = 'The quick brown fox jumps over the lazy dog.'\n",
    "searched_word = 'fox'\n",
    "\n",
    "found_locations = search_literal_in_text(sample_text, searched_word)\n",
    "\n",
    "if found_locations:\n",
    "    print(f\"'{searched_word}' found at positions:\", found_locations)\n",
    "else:\n",
    "    print(f\"'{searched_word}' not found in the text.\")\n"
   ]
  },
  {
   "cell_type": "code",
   "execution_count": 18,
   "id": "987c3a19",
   "metadata": {},
   "outputs": [
    {
     "name": "stdout",
     "output_type": "stream",
     "text": [
      "'exercises' found at positions: [7, 22, 36]\n"
     ]
    }
   ],
   "source": [
    "def find_substrings(text, pattern):\n",
    "    found_positions = []\n",
    "    start = 0\n",
    "    \n",
    "    while start < len(text):\n",
    "        index = text.find(pattern, start)\n",
    "        if index == -1:\n",
    "            break\n",
    "        found_positions.append(index)\n",
    "        start = index + 1\n",
    "    \n",
    "    return found_positions\n",
    "\n",
    "sample_text = 'Python exercises, PHP exercises, C# exercises'\n",
    "pattern = 'exercises'\n",
    "\n",
    "found_positions = find_substrings(sample_text, pattern)\n",
    "\n",
    "if found_positions:\n",
    "    print(f\"'{pattern}' found at positions:\", found_positions)\n",
    "else:\n",
    "    print(f\"'{pattern}' not found in the text.\")\n",
    "\n"
   ]
  },
  {
   "cell_type": "code",
   "execution_count": 19,
   "id": "01139b2b",
   "metadata": {},
   "outputs": [
    {
     "name": "stdout",
     "output_type": "stream",
     "text": [
      "'exercises' found 3 times at positions: [7, 22, 36]\n"
     ]
    }
   ],
   "source": [
    "def find_occurrences_and_positions(text, pattern):\n",
    "    occurrences = 0\n",
    "    positions = []\n",
    "\n",
    "    start = 0\n",
    "    while start < len(text):\n",
    "        index = text.find(pattern, start)\n",
    "        if index == -1:\n",
    "            break\n",
    "        occurrences += 1\n",
    "        positions.append(index)\n",
    "        start = index + 1\n",
    "\n",
    "    return occurrences, positions\n",
    "\n",
    "sample_text = 'Python exercises, PHP exercises, C# exercises'\n",
    "pattern = 'exercises'\n",
    "\n",
    "occurrences, positions = find_occurrences_and_positions(sample_text, pattern)\n",
    "\n",
    "if occurrences > 0:\n",
    "    print(f\"'{pattern}' found {occurrences} times at positions:\", positions)\n",
    "else:\n",
    "    print(f\"'{pattern}' not found in the text.\")\n"
   ]
  },
  {
   "cell_type": "code",
   "execution_count": 20,
   "id": "db713b3d",
   "metadata": {},
   "outputs": [
    {
     "name": "stdout",
     "output_type": "stream",
     "text": [
      "2023-10-05\n"
     ]
    }
   ],
   "source": [
    "def convert_date_format(input_date):\n",
    "    # Split the input date using the '-' separator\n",
    "    parts = input_date.split('-')\n",
    "\n",
    "    # Reorder the date parts in 'dd-mm-yyyy' format\n",
    "    if len(parts) == 3:\n",
    "        dd, mm, yyyy = parts\n",
    "        output_date = f\"{dd}-{mm}-{yyyy}\"\n",
    "        return output_date\n",
    "    else:\n",
    "        return \"Invalid date format\"\n",
    "\n",
    "# Input date in 'yyyy-mm-dd' format\n",
    "input_date = \"2023-10-05\"\n",
    "\n",
    "# Convert the date format and print the result\n",
    "output_date = convert_date_format(input_date)\n",
    "print(output_date)\n"
   ]
  },
  {
   "cell_type": "code",
   "execution_count": 21,
   "id": "2e345d1c",
   "metadata": {},
   "outputs": [
    {
     "name": "stdout",
     "output_type": "stream",
     "text": [
      "['01.12', '145.8', '3.01', '27.25', '0.25']\n"
     ]
    }
   ],
   "source": [
    "import re\n",
    "\n",
    "def find_decimal_numbers(text):\n",
    "    # Compile a regular expression pattern to match decimal numbers with 1 or 2 decimal places\n",
    "    pattern = re.compile(r'\\b\\d+\\.\\d{1,2}\\b')\n",
    "    \n",
    "    # Use findall() to find all matching numbers\n",
    "    numbers = pattern.findall(text)\n",
    "    \n",
    "    return numbers\n",
    "\n",
    "sample_text = \"01.12 0132.123 2.31875 145.8 3.01 27.25 0.25\"\n",
    "result = find_decimal_numbers(sample_text)\n",
    "print(result)\n"
   ]
  },
  {
   "cell_type": "code",
   "execution_count": 22,
   "id": "7eb3af1e",
   "metadata": {},
   "outputs": [
    {
     "name": "stdout",
     "output_type": "stream",
     "text": [
      "Number: 42, Position: 10\n",
      "Number: 7, Position: 24\n"
     ]
    }
   ],
   "source": [
    "import re\n",
    "\n",
    "def separate_numbers_with_positions(text):\n",
    "    # Compile a regular expression pattern to find numbers\n",
    "    pattern = re.compile(r'\\d+')\n",
    "    \n",
    "    # Use finditer() to find all matching numbers and their positions\n",
    "    matches = pattern.finditer(text)\n",
    "    \n",
    "    for match in matches:\n",
    "        number = match.group()\n",
    "        position = match.start()\n",
    "        print(f\"Number: {number}, Position: {position}\")\n",
    "\n",
    "sample_text = \"There are 42 apples and 7 oranges on the table.\"\n",
    "separate_numbers_with_positions(sample_text)\n",
    "\n"
   ]
  },
  {
   "cell_type": "code",
   "execution_count": 23,
   "id": "5683c6b8",
   "metadata": {},
   "outputs": [
    {
     "name": "stdout",
     "output_type": "stream",
     "text": [
      "The maximum numeric value is: 950\n"
     ]
    }
   ],
   "source": [
    "import re\n",
    "\n",
    "def extract_maximum_number(text):\n",
    "    # Compile a regular expression pattern to match numeric values\n",
    "    pattern = re.compile(r'\\d+')\n",
    "    \n",
    "    # Use findall() to find all numeric values in the text\n",
    "    numbers = pattern.findall(text)\n",
    "    \n",
    "    if numbers:\n",
    "        # Convert the matched numbers to integers and find the maximum\n",
    "        max_number = max(map(int, numbers))\n",
    "        return max_number\n",
    "    else:\n",
    "        return None\n",
    "\n",
    "sample_text = 'My marks in each semester are: 947, 896, 926, 524, 734, 950, 642'\n",
    "result = extract_maximum_number(sample_text)\n",
    "\n",
    "if result is not None:\n",
    "    print(f\"The maximum numeric value is: {result}\")\n",
    "else:\n",
    "    print(\"No numeric values found in the text.\")\n"
   ]
  },
  {
   "cell_type": "code",
   "execution_count": 24,
   "id": "739d41ba",
   "metadata": {},
   "outputs": [
    {
     "name": "stdout",
     "output_type": "stream",
     "text": [
      "Regular Expression Is An Important Topic In Python\n"
     ]
    }
   ],
   "source": [
    "import re\n",
    "\n",
    "def insert_spaces_before_capital(text):\n",
    "    # Use regular expression to insert spaces before words starting with capital letters\n",
    "    modified_text = re.sub(r'([A-Z])', r' \\1', text)\n",
    "    return modified_text.strip()  # Strip leading space if any\n",
    "\n",
    "sample_text = \"RegularExpressionIsAnImportantTopicInPython\"\n",
    "result = insert_spaces_before_capital(sample_text)\n",
    "print(result)\n"
   ]
  },
  {
   "cell_type": "code",
   "execution_count": 25,
   "id": "5fffdf2f",
   "metadata": {},
   "outputs": [
    {
     "name": "stdout",
     "output_type": "stream",
     "text": [
      "This\n",
      "Test\n",
      "Multiple\n",
      "Sequences\n",
      "Upper\n",
      "Cases\n",
      "Abc\n",
      "Xyz\n",
      "Efgh\n",
      "Mno\n"
     ]
    }
   ],
   "source": [
    "import re\n",
    "\n",
    "text = \"This is a Test with Multiple Sequences of Upper and lower Cases: Abc, Xyz, Efgh, Mno.\"\n",
    "\n",
    "pattern = r'[A-Z][a-z]+'\n",
    "\n",
    "matches = re.findall(pattern, text)\n",
    "\n",
    "for match in matches:\n",
    "    print(match)\n",
    "\n",
    "\n"
   ]
  },
  {
   "cell_type": "code",
   "execution_count": 26,
   "id": "64b4085d",
   "metadata": {},
   "outputs": [
    {
     "name": "stdout",
     "output_type": "stream",
     "text": [
      "Hello world\n"
     ]
    }
   ],
   "source": [
    "import re\n",
    "\n",
    "def remove_continuous_duplicates(text):\n",
    "    # Use regular expression to remove continuous duplicate words\n",
    "    pattern = r'\\b(\\w+)(?: \\1\\b)+'\n",
    "    modified_text = re.sub(pattern, r'\\1', text, flags=re.IGNORECASE)\n",
    "    return modified_text\n",
    "\n",
    "sample_text = \"Hello hello world world\"\n",
    "result = remove_continuous_duplicates(sample_text)\n",
    "print(result)\n"
   ]
  },
  {
   "cell_type": "code",
   "execution_count": 27,
   "id": "83c0ffaf",
   "metadata": {},
   "outputs": [
    {
     "name": "stdout",
     "output_type": "stream",
     "text": [
      "'Hello123' ends with an alphanumeric character.\n",
      "'Python!' does not end with an alphanumeric character.\n",
      "'12345' ends with an alphanumeric character.\n",
      "'Alphanumeric1' ends with an alphanumeric character.\n"
     ]
    }
   ],
   "source": [
    "import re\n",
    "\n",
    "def is_ending_with_alphanumeric(input_string):\n",
    "    # Define a regular expression pattern to match strings ending with an alphanumeric character\n",
    "    pattern = r'^.*[a-zA-Z0-9]$'\n",
    "    \n",
    "    # Use re.match() to check if the input string matches the pattern\n",
    "    match = re.match(pattern, input_string)\n",
    "    \n",
    "    # If a match is found, the string ends with an alphanumeric character\n",
    "    return match is not None\n",
    "\n",
    "# Test the function with some sample strings\n",
    "sample_strings = [\"Hello123\", \"Python!\", \"12345\", \"Alphanumeric1\"]\n",
    "for string in sample_strings:\n",
    "    if is_ending_with_alphanumeric(string):\n",
    "        print(f\"'{string}' ends with an alphanumeric character.\")\n",
    "    else:\n",
    "        print(f\"'{string}' does not end with an alphanumeric character.\")\n"
   ]
  },
  {
   "cell_type": "code",
   "execution_count": 28,
   "id": "e0fe1444",
   "metadata": {},
   "outputs": [
    {
     "name": "stdout",
     "output_type": "stream",
     "text": [
      "['#Doltiwal', '#xyzabc', '#Demonetization']\n"
     ]
    }
   ],
   "source": [
    "import re\n",
    "\n",
    "def extract_hashtags(text):\n",
    "    # Define a regular expression pattern to match hashtags\n",
    "    pattern = r'#\\w+'\n",
    "    \n",
    "    # Use re.findall() to find all matching hashtags in the text\n",
    "    hashtags = re.findall(pattern, text)\n",
    "    \n",
    "    return hashtags\n",
    "\n",
    "sample_text = \"\"\"RT @kapil_kausik: #Doltiwal I mean #xyzabc is \"hurt\" by #Demonetization as the same\n",
    "has rendered USELESS <ed><U+00A0><U+00BD><ed><U+00B1><U+0089> \"acquired funds\" No wo\"\"\"\n",
    "\n",
    "hashtags = extract_hashtags(sample_text)\n",
    "print(hashtags)\n"
   ]
  },
  {
   "cell_type": "code",
   "execution_count": 29,
   "id": "41a48023",
   "metadata": {},
   "outputs": [
    {
     "name": "stdout",
     "output_type": "stream",
     "text": [
      "@Jags123456 Bharat band on 28??<ed><ed>Those who are protesting #demonetization are all different party leaders\n"
     ]
    }
   ],
   "source": [
    "import re\n",
    "\n",
    "def remove_U_plus_symbols(text):\n",
    "    # Define a regular expression pattern to match <U+..> symbols\n",
    "    pattern = r'<U\\+\\w+>'\n",
    "    \n",
    "    # Use re.sub() to replace all matching symbols with an empty string\n",
    "    modified_text = re.sub(pattern, '', text)\n",
    "    \n",
    "    return modified_text\n",
    "\n",
    "sample_text = \"@Jags123456 Bharat band on 28??<ed><U+00A0><U+00BD><ed><U+00B8><U+0082>Those who are protesting #demonetization are all different party leaders\"\n",
    "result = remove_U_plus_symbols(sample_text)\n",
    "print(result)\n"
   ]
  },
  {
   "cell_type": "code",
   "execution_count": 30,
   "id": "6fb407dc",
   "metadata": {},
   "outputs": [
    {
     "ename": "SyntaxError",
     "evalue": "leading zeros in decimal integer literals are not permitted; use an 0o prefix for octal integers (2523442384.py, line 1)",
     "output_type": "error",
     "traceback": [
      "\u001b[0;36m  Cell \u001b[0;32mIn[30], line 1\u001b[0;36m\u001b[0m\n\u001b[0;31m    Ron was born on 12-09-1992 and he was admitted to school 15-12-1999.\u001b[0m\n\u001b[0m                       ^\u001b[0m\n\u001b[0;31mSyntaxError\u001b[0m\u001b[0;31m:\u001b[0m leading zeros in decimal integer literals are not permitted; use an 0o prefix for octal integers\n"
     ]
    }
   ],
   "source": [
    "Ron was born on 12-09-1992 and he was admitted to school 15-12-1999.\n",
    "\n",
    "\n",
    "\n",
    "\n",
    "import re\n",
    "\n",
    "def extract_dates_from_file(file_name):\n",
    "    try:\n",
    "        with open(file_name, \"r\") as file:\n",
    "            text = file.read()\n",
    "            # Define a regular expression pattern to match dates in the format \"dd-mm-yyyy\"\n",
    "            date_pattern = r'\\b\\d{2}-\\d{2}-\\d{4}\\b'\n",
    "            dates = re.findall(date_pattern, text)\n",
    "            return dates\n",
    "    except FileNotFoundError:\n",
    "        return []\n",
    "\n",
    "file_name = \"sample.txt\"\n",
    "dates = extract_dates_from_file(file_name)\n",
    "\n",
    "if dates:\n",
    "    print(\"Dates found in the text:\")\n",
    "    for date in dates:\n",
    "        print(date)\n",
    "else:\n",
    "    print(\"No dates found in the text.\")\n"
   ]
  },
  {
   "cell_type": "code",
   "execution_count": 31,
   "id": "4ed8b4f6",
   "metadata": {},
   "outputs": [
    {
     "name": "stdout",
     "output_type": "stream",
     "text": [
      "following example creates ArrayList a capacity elements. 4 elements added ArrayList ArrayList trimmed accordingly.\n"
     ]
    }
   ],
   "source": [
    "import re\n",
    "\n",
    "def remove_words_between_length_2_and_4(text):\n",
    "    # Compile a regular expression pattern to match words with lengths between 2 and 4\n",
    "    pattern = re.compile(r'\\b\\w{2,4}\\b')\n",
    "    \n",
    "    # Use sub() to replace all matching words with an empty string\n",
    "    modified_text = pattern.sub('', text)\n",
    "    \n",
    "    # Remove extra spaces resulting from word removal\n",
    "    modified_text = re.sub(r'\\s+', ' ', modified_text).strip()\n",
    "    \n",
    "    return modified_text\n",
    "\n",
    "sample_text = \"The following example creates an ArrayList with a capacity of 50 elements. 4 elements are then added to the ArrayList and the ArrayList is trimmed accordingly.\"\n",
    "result = remove_words_between_length_2_and_4(sample_text)\n",
    "print(result)\n"
   ]
  },
  {
   "cell_type": "code",
   "execution_count": null,
   "id": "2449d921",
   "metadata": {},
   "outputs": [],
   "source": []
  }
 ],
 "metadata": {
  "kernelspec": {
   "display_name": "Python 3 (ipykernel)",
   "language": "python",
   "name": "python3"
  },
  "language_info": {
   "codemirror_mode": {
    "name": "ipython",
    "version": 3
   },
   "file_extension": ".py",
   "mimetype": "text/x-python",
   "name": "python",
   "nbconvert_exporter": "python",
   "pygments_lexer": "ipython3",
   "version": "3.11.5"
  }
 },
 "nbformat": 4,
 "nbformat_minor": 5
}
